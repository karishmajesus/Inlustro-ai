{
 "cells": [
  {
   "cell_type": "code",
   "execution_count": null,
   "id": "17b8116b",
   "metadata": {},
   "outputs": [],
   "source": [
    "pip install -U textblob"
   ]
  },
  {
   "cell_type": "code",
   "execution_count": null,
   "id": "a6c1c3cd",
   "metadata": {},
   "outputs": [],
   "source": [
    "#Import necessary libraries\n",
    "import nltk\n",
    "from nltk.corpus import stopwords\n",
    "from nltk.tokenize import word_tokenize\n",
    "from nltk.stem import PorterStemmer,wordNetLemmatizer\n",
    "from textblob import TextBlob"
   ]
  },
  {
   "cell_type": "code",
   "execution_count": null,
   "id": "92864fe3",
   "metadata": {},
   "outputs": [],
   "source": [
    "#Download required nltk packages (only needed for first time)\n",
    "nltk.download('punkt')\n",
    "nltk.download('stopwords')\n",
    "nltk.download('averaged_perceptron_tagger')\n",
    "nltk.download('wordnet')"
   ]
  },
  {
   "cell_type": "code",
   "execution_count": null,
   "id": "5df27685",
   "metadata": {},
   "outputs": [],
   "source": [
    "#Examle text\n",
    "text=\"the product is not good\""
   ]
  },
  {
   "cell_type": "code",
   "execution_count": null,
   "id": "8643751b",
   "metadata": {},
   "outputs": [],
   "source": [
    "#step 1: tokenization (splitting the text into words)\n",
    "tokens = word_tokenize(text)\n",
    "print(\"tokens:\",tokens)"
   ]
  },
  {
   "cell_type": "code",
   "execution_count": null,
   "id": "eafe575c",
   "metadata": {},
   "outputs": [],
   "source": [
    "#step 2: Remove stopwords (filter out commen,non-essential words)\n",
    "stop_words=set(stopwords.words('english'))\n",
    "filtered_tokens=[word for word in tokens if word.lower()not in stop_words]\n",
    "print(\"Filtered tokens:\", filterd_tokens)\n"
   ]
  },
  {
   "cell_type": "code",
   "execution_count": null,
   "id": "2a146f39",
   "metadata": {},
   "outputs": [],
   "source": [
    "#step 3: stemming (reduce words to their root form)\n",
    "ps=porterstemmer()\n",
    "stemmed_tokens=[ps.stem(word)for word in filterd_token]\n",
    "print(\"stemmed tokens:\",stemmed_tokens)"
   ]
  },
  {
   "cell_type": "code",
   "execution_count": null,
   "id": "feb56277",
   "metadata": {},
   "outputs": [],
   "source": [
    "#step 4: Lemmatization (reduse words to their base form) considering the context)\n",
    "lemmatizer=WordNetLemmatizer()\n",
    "lemmatizer_tokens=[lemmatizer.lemmatize(word)for word in filtered_tokens]\n",
    "print(\"Lemmatized tokens:\",lemmatized_tokens)"
   ]
  },
  {
   "cell_type": "code",
   "execution_count": null,
   "id": "ec49d30b",
   "metadata": {},
   "outputs": [],
   "source": [
    "#step 5: part-of-speech (POS) tagging (assign grammatical categories to each word)\n",
    "pos_tags=n1tk.pos_tag(filtered_tokens)\n",
    "print(\"pos tags:\", pos_tags)\n"
   ]
  },
  {
   "cell_type": "code",
   "execution_count": null,
   "id": "acc92c34",
   "metadata": {},
   "outputs": [],
   "source": [
    "#sentiment analysis using TextBlob and classify as positive,negative,or neutral\n",
    "blob=textBlob(text)\n",
    "polarity=blob.sentiment.polarity"
   ]
  },
  {
   "cell_type": "code",
   "execution_count": 19,
   "id": "a3f649e4",
   "metadata": {},
   "outputs": [
    {
     "ename": "NameError",
     "evalue": "name 'polarity' is not defined",
     "output_type": "error",
     "traceback": [
      "\u001b[1;31m---------------------------------------------------------------------------\u001b[0m",
      "\u001b[1;31mNameError\u001b[0m                                 Traceback (most recent call last)",
      "\u001b[1;32mC:\\Users\\ADMINI~1\\AppData\\Local\\Temp/ipykernel_11132/3401301141.py\u001b[0m in \u001b[0;36m<module>\u001b[1;34m\u001b[0m\n\u001b[0;32m      1\u001b[0m \u001b[1;31m#Determine if the sentiment is positive,negative,or neutral\u001b[0m\u001b[1;33m\u001b[0m\u001b[1;33m\u001b[0m\u001b[0m\n\u001b[1;32m----> 2\u001b[1;33m \u001b[1;32mif\u001b[0m \u001b[0mpolarity\u001b[0m \u001b[1;33m>\u001b[0m \u001b[1;36m0\u001b[0m\u001b[1;33m:\u001b[0m\u001b[1;33m\u001b[0m\u001b[1;33m\u001b[0m\u001b[0m\n\u001b[0m\u001b[0;32m      3\u001b[0m     \u001b[0msenitiment_label\u001b[0m\u001b[1;33m=\u001b[0m\u001b[1;34m\"positive\"\u001b[0m\u001b[1;33m\u001b[0m\u001b[1;33m\u001b[0m\u001b[0m\n\u001b[0;32m      4\u001b[0m \u001b[1;32melif\u001b[0m \u001b[0mpolarity\u001b[0m \u001b[1;33m<\u001b[0m\u001b[1;36m0\u001b[0m\u001b[1;33m:\u001b[0m\u001b[1;33m\u001b[0m\u001b[1;33m\u001b[0m\u001b[0m\n\u001b[0;32m      5\u001b[0m     \u001b[0msentiment_label\u001b[0m\u001b[1;33m=\u001b[0m\u001b[1;34m\"negative\"\u001b[0m\u001b[1;33m\u001b[0m\u001b[1;33m\u001b[0m\u001b[0m\n",
      "\u001b[1;31mNameError\u001b[0m: name 'polarity' is not defined"
     ]
    }
   ],
   "source": [
    "#Determine if the sentiment is positive,negative,or neutral\n",
    "if polarity > 0:\n",
    "    senitiment_label=\"positive\"\n",
    "elif polarity <0:\n",
    "    sentiment_label=\"negative\"\n",
    "else:\n",
    "    seniment_label=\"neutral\"\n",
    "print(f\"sentiment: {sentiment_label}\")    "
   ]
  },
  {
   "cell_type": "code",
   "execution_count": null,
   "id": "a284bc98",
   "metadata": {},
   "outputs": [],
   "source": []
  },
  {
   "cell_type": "code",
   "execution_count": null,
   "id": "c03255f4",
   "metadata": {},
   "outputs": [],
   "source": []
  },
  {
   "cell_type": "code",
   "execution_count": null,
   "id": "ccae4d7b",
   "metadata": {},
   "outputs": [],
   "source": []
  },
  {
   "cell_type": "code",
   "execution_count": null,
   "id": "d341a835",
   "metadata": {},
   "outputs": [],
   "source": []
  },
  {
   "cell_type": "code",
   "execution_count": null,
   "id": "d76f6805",
   "metadata": {},
   "outputs": [],
   "source": []
  },
  {
   "cell_type": "code",
   "execution_count": null,
   "id": "ce01223f",
   "metadata": {},
   "outputs": [],
   "source": []
  },
  {
   "cell_type": "code",
   "execution_count": null,
   "id": "7323be1b",
   "metadata": {},
   "outputs": [],
   "source": []
  },
  {
   "cell_type": "code",
   "execution_count": null,
   "id": "2ad99056",
   "metadata": {},
   "outputs": [],
   "source": []
  },
  {
   "cell_type": "code",
   "execution_count": null,
   "id": "9ddd9775",
   "metadata": {},
   "outputs": [],
   "source": []
  },
  {
   "cell_type": "code",
   "execution_count": null,
   "id": "b90aa8ed",
   "metadata": {},
   "outputs": [],
   "source": []
  }
 ],
 "metadata": {
  "kernelspec": {
   "display_name": "Python 3 (ipykernel)",
   "language": "python",
   "name": "python3"
  },
  "language_info": {
   "codemirror_mode": {
    "name": "ipython",
    "version": 3
   },
   "file_extension": ".py",
   "mimetype": "text/x-python",
   "name": "python",
   "nbconvert_exporter": "python",
   "pygments_lexer": "ipython3",
   "version": "3.9.7"
  }
 },
 "nbformat": 4,
 "nbformat_minor": 5
}
